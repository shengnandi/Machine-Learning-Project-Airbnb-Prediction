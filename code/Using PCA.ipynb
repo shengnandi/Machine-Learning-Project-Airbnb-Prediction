{
 "cells": [
  {
   "cell_type": "code",
   "execution_count": 73,
   "metadata": {},
   "outputs": [],
   "source": [
    "import pandas as pd\n",
    "import numpy as np\n",
    "import matplotlib.pyplot as plt\n",
    "import seaborn as sns\n",
    "from scipy import stats\n",
    "from scipy.stats import norm, skew\n",
    "from scipy.special import boxcox1p\n",
    "from sklearn.model_selection import train_test_split\n",
    "from sklearn.impute import SimpleImputer\n",
    "from sklearn.preprocessing import OrdinalEncoder,MinMaxScaler, RobustScaler\n",
    "from sklearn.linear_model import LinearRegression\n",
    "from sklearn.cluster import KMeans\n",
    "from sklearn.metrics import mean_squared_error\n",
    "from sklearn.linear_model import Ridge, RidgeCV\n",
    "from sklearn.linear_model import Lasso, LassoCV\n",
    "from sklearn.linear_model import ElasticNet, ElasticNetCV\n",
    "from sklearn.svm import SVR\n",
    "from sklearn.ensemble import BaggingClassifier, GradientBoostingRegressor\n",
    "from sklearn.tree import DecisionTreeClassifier\n",
    "from sklearn.kernel_ridge import KernelRidge\n",
    "from sklearn.decomposition import PCA\n",
    "from sklearn.model_selection import KFold, cross_val_score\n",
    "import xgboost as xgb\n",
    "import lightgbm as lgb\n",
    "from sklearn.pipeline import make_pipeline"
   ]
  },
  {
   "cell_type": "code",
   "execution_count": 51,
   "metadata": {},
   "outputs": [],
   "source": [
    "train = pd.read_csv('/Users/sunmingze/Desktop/Airbnb/train-2.csv')\n",
    "test = pd.read_csv('/Users/sunmingze/Desktop/Airbnb/test.csv')"
   ]
  },
  {
   "cell_type": "code",
   "execution_count": 52,
   "metadata": {},
   "outputs": [],
   "source": [
    "train.drop('Id', axis=1, inplace=True)\n",
    "test.drop('Id', axis=1, inplace=True)\n",
    "train['train_data'] = 'Y'\n",
    "test['train_data'] = 'N'"
   ]
  },
  {
   "cell_type": "code",
   "execution_count": 53,
   "metadata": {},
   "outputs": [
    {
     "name": "stdout",
     "output_type": "stream",
     "text": [
      "all_data size is : (1998, 36)\n"
     ]
    },
    {
     "data": {
      "text/html": [
       "<div>\n",
       "<style scoped>\n",
       "    .dataframe tbody tr th:only-of-type {\n",
       "        vertical-align: middle;\n",
       "    }\n",
       "\n",
       "    .dataframe tbody tr th {\n",
       "        vertical-align: top;\n",
       "    }\n",
       "\n",
       "    .dataframe thead th {\n",
       "        text-align: right;\n",
       "    }\n",
       "</style>\n",
       "<table border=\"1\" class=\"dataframe\">\n",
       "  <thead>\n",
       "    <tr style=\"text-align: right;\">\n",
       "      <th></th>\n",
       "      <th>Missing Ratio</th>\n",
       "    </tr>\n",
       "  </thead>\n",
       "  <tbody>\n",
       "    <tr>\n",
       "      <th>price</th>\n",
       "      <td>50.050050</td>\n",
       "    </tr>\n",
       "    <tr>\n",
       "      <th>security_deposit</th>\n",
       "      <td>32.132132</td>\n",
       "    </tr>\n",
       "    <tr>\n",
       "      <th>host_response_time</th>\n",
       "      <td>30.880881</td>\n",
       "    </tr>\n",
       "    <tr>\n",
       "      <th>host_response_rate</th>\n",
       "      <td>30.880881</td>\n",
       "    </tr>\n",
       "    <tr>\n",
       "      <th>review_scores_value</th>\n",
       "      <td>25.925926</td>\n",
       "    </tr>\n",
       "    <tr>\n",
       "      <th>review_scores_location</th>\n",
       "      <td>25.875876</td>\n",
       "    </tr>\n",
       "    <tr>\n",
       "      <th>review_scores_communication</th>\n",
       "      <td>25.825826</td>\n",
       "    </tr>\n",
       "    <tr>\n",
       "      <th>review_scores_cleanliness</th>\n",
       "      <td>25.825826</td>\n",
       "    </tr>\n",
       "    <tr>\n",
       "      <th>review_scores_checkin</th>\n",
       "      <td>25.825826</td>\n",
       "    </tr>\n",
       "    <tr>\n",
       "      <th>review_scores_accuracy</th>\n",
       "      <td>25.825826</td>\n",
       "    </tr>\n",
       "    <tr>\n",
       "      <th>review_scores_rating</th>\n",
       "      <td>25.775776</td>\n",
       "    </tr>\n",
       "    <tr>\n",
       "      <th>reviews_per_month</th>\n",
       "      <td>23.973974</td>\n",
       "    </tr>\n",
       "    <tr>\n",
       "      <th>cleaning_fee</th>\n",
       "      <td>23.623624</td>\n",
       "    </tr>\n",
       "    <tr>\n",
       "      <th>bathrooms</th>\n",
       "      <td>0.300300</td>\n",
       "    </tr>\n",
       "    <tr>\n",
       "      <th>beds</th>\n",
       "      <td>0.150150</td>\n",
       "    </tr>\n",
       "    <tr>\n",
       "      <th>bedrooms</th>\n",
       "      <td>0.100100</td>\n",
       "    </tr>\n",
       "    <tr>\n",
       "      <th>host_listings_count</th>\n",
       "      <td>0.050050</td>\n",
       "    </tr>\n",
       "    <tr>\n",
       "      <th>host_is_superhost</th>\n",
       "      <td>0.050050</td>\n",
       "    </tr>\n",
       "    <tr>\n",
       "      <th>host_identity_verified</th>\n",
       "      <td>0.050050</td>\n",
       "    </tr>\n",
       "  </tbody>\n",
       "</table>\n",
       "</div>"
      ],
      "text/plain": [
       "                             Missing Ratio\n",
       "price                            50.050050\n",
       "security_deposit                 32.132132\n",
       "host_response_time               30.880881\n",
       "host_response_rate               30.880881\n",
       "review_scores_value              25.925926\n",
       "review_scores_location           25.875876\n",
       "review_scores_communication      25.825826\n",
       "review_scores_cleanliness        25.825826\n",
       "review_scores_checkin            25.825826\n",
       "review_scores_accuracy           25.825826\n",
       "review_scores_rating             25.775776\n",
       "reviews_per_month                23.973974\n",
       "cleaning_fee                     23.623624\n",
       "bathrooms                         0.300300\n",
       "beds                              0.150150\n",
       "bedrooms                          0.100100\n",
       "host_listings_count               0.050050\n",
       "host_is_superhost                 0.050050\n",
       "host_identity_verified            0.050050"
      ]
     },
     "execution_count": 53,
     "metadata": {},
     "output_type": "execute_result"
    }
   ],
   "source": [
    "#We use the numpy fuction log1p which  applies log(1+x) to all elements of the column\n",
    "train[\"price\"] = np.log1p(train[\"price\"])\n",
    "train = train.drop(train[(train['security_deposit']>2000)].index)\n",
    "all_data = pd.concat((train, test), sort=True).reset_index(drop=True)\n",
    "print(\"all_data size is : {}\".format(all_data.shape))\n",
    "all_data_na = (all_data.isnull().sum() / len(all_data)) * 100\n",
    "all_data_na = all_data_na.drop(all_data_na[all_data_na == 0].index).sort_values(ascending=False)[:30]\n",
    "missing_data = pd.DataFrame({'Missing Ratio' :all_data_na})\n",
    "missing_data.head(20)"
   ]
  },
  {
   "cell_type": "code",
   "execution_count": 54,
   "metadata": {},
   "outputs": [],
   "source": [
    "imputer = SimpleImputer(strategy='most_frequent')\n",
    "_ = imputer.fit(all_data)\n",
    "X = imputer.transform(all_data)\n",
    "all_data1 = pd.DataFrame(X, columns=all_data.columns)"
   ]
  },
  {
   "cell_type": "code",
   "execution_count": 55,
   "metadata": {},
   "outputs": [],
   "source": [
    "geo = all_data1[['longitude', 'latitude']]\n",
    "km = KMeans(n_clusters=15, random_state=28).fit(geo)\n",
    "all_data1['geo'] = km.labels_"
   ]
  },
  {
   "cell_type": "code",
   "execution_count": 56,
   "metadata": {},
   "outputs": [],
   "source": [
    "all_data1 = all_data1.drop('longitude', axis=1)\n",
    "all_data1 = all_data1.drop('latitude', axis=1)"
   ]
  },
  {
   "cell_type": "code",
   "execution_count": 57,
   "metadata": {},
   "outputs": [],
   "source": [
    "cat_var = ['experiences_offered', 'host_response_time', 'host_is_superhost', 'host_identity_verified',\n",
    "          'property_type', 'room_type', 'bed_type', 'instant_bookable', 'cancellation_policy',\n",
    "          'require_guest_profile_picture', 'require_guest_phone_verification', 'geo']\n",
    "num_var = ['host_response_rate', 'host_listings_count', 'accommodates',\n",
    "          'bathrooms', 'bedrooms', 'beds', 'security_deposit', 'cleaning_fee', 'guests_included',\n",
    "          'extra_people', 'minimum_nights', 'maximum_nights', 'number_of_reviews', 'review_scores_rating',\n",
    "          'review_scores_accuracy', 'review_scores_cleanliness', 'review_scores_checkin', 'review_scores_communication',\n",
    "          'review_scores_location', 'review_scores_value', 'reviews_per_month']"
   ]
  },
  {
   "cell_type": "code",
   "execution_count": 58,
   "metadata": {},
   "outputs": [
    {
     "name": "stdout",
     "output_type": "stream",
     "text": [
      "\n",
      "Skew in numerical features: \n",
      "\n"
     ]
    },
    {
     "data": {
      "text/html": [
       "<div>\n",
       "<style scoped>\n",
       "    .dataframe tbody tr th:only-of-type {\n",
       "        vertical-align: middle;\n",
       "    }\n",
       "\n",
       "    .dataframe tbody tr th {\n",
       "        vertical-align: top;\n",
       "    }\n",
       "\n",
       "    .dataframe thead th {\n",
       "        text-align: right;\n",
       "    }\n",
       "</style>\n",
       "<table border=\"1\" class=\"dataframe\">\n",
       "  <thead>\n",
       "    <tr style=\"text-align: right;\">\n",
       "      <th></th>\n",
       "      <th>Skew</th>\n",
       "    </tr>\n",
       "  </thead>\n",
       "  <tbody>\n",
       "    <tr>\n",
       "      <th>minimum_nights</th>\n",
       "      <td>9.923356</td>\n",
       "    </tr>\n",
       "    <tr>\n",
       "      <th>host_listings_count</th>\n",
       "      <td>6.938758</td>\n",
       "    </tr>\n",
       "    <tr>\n",
       "      <th>security_deposit</th>\n",
       "      <td>6.303798</td>\n",
       "    </tr>\n",
       "    <tr>\n",
       "      <th>number_of_reviews</th>\n",
       "      <td>4.839071</td>\n",
       "    </tr>\n",
       "    <tr>\n",
       "      <th>cleaning_fee</th>\n",
       "      <td>3.577277</td>\n",
       "    </tr>\n",
       "    <tr>\n",
       "      <th>bathrooms</th>\n",
       "      <td>3.546345</td>\n",
       "    </tr>\n",
       "    <tr>\n",
       "      <th>guests_included</th>\n",
       "      <td>3.023952</td>\n",
       "    </tr>\n",
       "    <tr>\n",
       "      <th>reviews_per_month</th>\n",
       "      <td>2.823368</td>\n",
       "    </tr>\n",
       "    <tr>\n",
       "      <th>extra_people</th>\n",
       "      <td>2.446770</td>\n",
       "    </tr>\n",
       "    <tr>\n",
       "      <th>beds</th>\n",
       "      <td>2.068795</td>\n",
       "    </tr>\n",
       "  </tbody>\n",
       "</table>\n",
       "</div>"
      ],
      "text/plain": [
       "                         Skew\n",
       "minimum_nights       9.923356\n",
       "host_listings_count  6.938758\n",
       "security_deposit     6.303798\n",
       "number_of_reviews    4.839071\n",
       "cleaning_fee         3.577277\n",
       "bathrooms            3.546345\n",
       "guests_included      3.023952\n",
       "reviews_per_month    2.823368\n",
       "extra_people         2.446770\n",
       "beds                 2.068795"
      ]
     },
     "execution_count": 58,
     "metadata": {},
     "output_type": "execute_result"
    }
   ],
   "source": [
    "numeric_feats = num_var\n",
    "\n",
    "# Check the skew of all numerical features\n",
    "skewed_feats = all_data1[numeric_feats].apply(lambda x: skew(x.dropna())).sort_values(ascending=False)\n",
    "print(\"\\nSkew in numerical features: \\n\")\n",
    "skewness = pd.DataFrame({'Skew' :skewed_feats})\n",
    "skewness.head(10)"
   ]
  },
  {
   "cell_type": "code",
   "execution_count": 59,
   "metadata": {},
   "outputs": [
    {
     "name": "stdout",
     "output_type": "stream",
     "text": [
      "<class 'pandas.core.frame.DataFrame'>\n",
      "RangeIndex: 1998 entries, 0 to 1997\n",
      "Data columns (total 89 columns):\n",
      "accommodates                                       1998 non-null object\n",
      "bathrooms                                          1998 non-null object\n",
      "bedrooms                                           1998 non-null object\n",
      "beds                                               1998 non-null object\n",
      "cleaning_fee                                       1998 non-null object\n",
      "extra_people                                       1998 non-null object\n",
      "guests_included                                    1998 non-null object\n",
      "host_listings_count                                1998 non-null object\n",
      "host_response_rate                                 1998 non-null object\n",
      "maximum_nights                                     1998 non-null object\n",
      "minimum_nights                                     1998 non-null object\n",
      "number_of_reviews                                  1998 non-null object\n",
      "price                                              1998 non-null object\n",
      "review_scores_accuracy                             1998 non-null object\n",
      "review_scores_checkin                              1998 non-null object\n",
      "review_scores_cleanliness                          1998 non-null object\n",
      "review_scores_communication                        1998 non-null object\n",
      "review_scores_location                             1998 non-null object\n",
      "review_scores_rating                               1998 non-null object\n",
      "review_scores_value                                1998 non-null object\n",
      "reviews_per_month                                  1998 non-null object\n",
      "security_deposit                                   1998 non-null object\n",
      "train_data                                         1998 non-null object\n",
      "experiences_offered_business                       1998 non-null uint8\n",
      "experiences_offered_family                         1998 non-null uint8\n",
      "experiences_offered_none                           1998 non-null uint8\n",
      "experiences_offered_romantic                       1998 non-null uint8\n",
      "experiences_offered_social                         1998 non-null uint8\n",
      "host_response_time_a few days or more              1998 non-null uint8\n",
      "host_response_time_within a day                    1998 non-null uint8\n",
      "host_response_time_within a few hours              1998 non-null uint8\n",
      "host_response_time_within an hour                  1998 non-null uint8\n",
      "host_is_superhost_f                                1998 non-null uint8\n",
      "host_is_superhost_t                                1998 non-null uint8\n",
      "host_identity_verified_f                           1998 non-null uint8\n",
      "host_identity_verified_t                           1998 non-null uint8\n",
      "property_type_Aparthotel                           1998 non-null uint8\n",
      "property_type_Apartment                            1998 non-null uint8\n",
      "property_type_Bed and breakfast                    1998 non-null uint8\n",
      "property_type_Boat                                 1998 non-null uint8\n",
      "property_type_Boutique hotel                       1998 non-null uint8\n",
      "property_type_Condominium                          1998 non-null uint8\n",
      "property_type_Cottage                              1998 non-null uint8\n",
      "property_type_Farm stay                            1998 non-null uint8\n",
      "property_type_Guest suite                          1998 non-null uint8\n",
      "property_type_Guesthouse                           1998 non-null uint8\n",
      "property_type_Hostel                               1998 non-null uint8\n",
      "property_type_Hotel                                1998 non-null uint8\n",
      "property_type_House                                1998 non-null uint8\n",
      "property_type_Loft                                 1998 non-null uint8\n",
      "property_type_Other                                1998 non-null uint8\n",
      "property_type_Serviced apartment                   1998 non-null uint8\n",
      "property_type_Townhouse                            1998 non-null uint8\n",
      "property_type_Treehouse                            1998 non-null uint8\n",
      "property_type_Villa                                1998 non-null uint8\n",
      "room_type_Entire home/apt                          1998 non-null uint8\n",
      "room_type_Private room                             1998 non-null uint8\n",
      "room_type_Shared room                              1998 non-null uint8\n",
      "bed_type_Airbed                                    1998 non-null uint8\n",
      "bed_type_Couch                                     1998 non-null uint8\n",
      "bed_type_Futon                                     1998 non-null uint8\n",
      "bed_type_Pull-out Sofa                             1998 non-null uint8\n",
      "bed_type_Real Bed                                  1998 non-null uint8\n",
      "instant_bookable_f                                 1998 non-null uint8\n",
      "instant_bookable_t                                 1998 non-null uint8\n",
      "cancellation_policy_flexible                       1998 non-null uint8\n",
      "cancellation_policy_moderate                       1998 non-null uint8\n",
      "cancellation_policy_strict_14_with_grace_period    1998 non-null uint8\n",
      "cancellation_policy_super_strict_30                1998 non-null uint8\n",
      "cancellation_policy_super_strict_60                1998 non-null uint8\n",
      "require_guest_profile_picture_f                    1998 non-null uint8\n",
      "require_guest_profile_picture_t                    1998 non-null uint8\n",
      "require_guest_phone_verification_f                 1998 non-null uint8\n",
      "require_guest_phone_verification_t                 1998 non-null uint8\n",
      "geo_0                                              1998 non-null uint8\n",
      "geo_1                                              1998 non-null uint8\n",
      "geo_2                                              1998 non-null uint8\n",
      "geo_3                                              1998 non-null uint8\n",
      "geo_4                                              1998 non-null uint8\n",
      "geo_5                                              1998 non-null uint8\n",
      "geo_6                                              1998 non-null uint8\n",
      "geo_7                                              1998 non-null uint8\n",
      "geo_8                                              1998 non-null uint8\n",
      "geo_9                                              1998 non-null uint8\n",
      "geo_10                                             1998 non-null uint8\n",
      "geo_11                                             1998 non-null uint8\n",
      "geo_12                                             1998 non-null uint8\n",
      "geo_13                                             1998 non-null uint8\n",
      "geo_14                                             1998 non-null uint8\n",
      "dtypes: object(23), uint8(66)\n",
      "memory usage: 487.9+ KB\n"
     ]
    }
   ],
   "source": [
    "all_data2 = pd.get_dummies(all_data1, columns=cat_var, prefix=cat_var)\n",
    "all_data2.info()"
   ]
  },
  {
   "cell_type": "code",
   "execution_count": 60,
   "metadata": {},
   "outputs": [
    {
     "name": "stderr",
     "output_type": "stream",
     "text": [
      "/anaconda3/lib/python3.6/site-packages/sklearn/preprocessing/data.py:334: DataConversionWarning: Data with input dtype object were all converted to float64 by MinMaxScaler.\n",
      "  return self.partial_fit(X, y)\n"
     ]
    }
   ],
   "source": [
    "min_max_scaler = MinMaxScaler()\n",
    "all_data2[num_var] = min_max_scaler.fit_transform(all_data2[num_var])"
   ]
  },
  {
   "cell_type": "code",
   "execution_count": 61,
   "metadata": {},
   "outputs": [
    {
     "name": "stdout",
     "output_type": "stream",
     "text": [
      "minimum_nights                 9.930813\n",
      "host_listings_count            6.943972\n",
      "security_deposit               6.308535\n",
      "review_scores_communication    5.115893\n",
      "review_scores_checkin          4.998740\n",
      "number_of_reviews              4.842708\n",
      "host_response_rate             4.662728\n",
      "review_scores_accuracy         3.807421\n",
      "cleaning_fee                   3.579965\n",
      "bathrooms                      3.549010\n",
      "review_scores_rating           3.077185\n",
      "review_scores_location         3.057814\n",
      "review_scores_cleanliness      3.034182\n",
      "guests_included                3.026225\n",
      "reviews_per_month              2.825489\n",
      "review_scores_value            2.596126\n",
      "extra_people                   2.448609\n",
      "beds                           2.070349\n",
      "bedrooms                       1.509477\n",
      "accommodates                   1.447314\n",
      "dtype: float64\n"
     ]
    }
   ],
   "source": [
    "skew = abs(all_data2[num_var].skew()).sort_values(ascending = False)\n",
    "skew_features = skew[skew > 0.75]\n",
    "print(skew_features)"
   ]
  },
  {
   "cell_type": "code",
   "execution_count": 63,
   "metadata": {},
   "outputs": [],
   "source": [
    "training = all_data2[all_data2['train_data']=='Y']\n",
    "testing = all_data2[all_data2['train_data']=='N']"
   ]
  },
  {
   "cell_type": "code",
   "execution_count": 64,
   "metadata": {},
   "outputs": [
    {
     "name": "stderr",
     "output_type": "stream",
     "text": [
      "/anaconda3/lib/python3.6/site-packages/pandas/core/frame.py:3940: SettingWithCopyWarning: \n",
      "A value is trying to be set on a copy of a slice from a DataFrame\n",
      "\n",
      "See the caveats in the documentation: http://pandas.pydata.org/pandas-docs/stable/indexing.html#indexing-view-versus-copy\n",
      "  errors=errors)\n"
     ]
    }
   ],
   "source": [
    "testing.drop('train_data', axis=1, inplace=True)\n",
    "training.drop('train_data', axis=1, inplace=True)"
   ]
  },
  {
   "cell_type": "code",
   "execution_count": 65,
   "metadata": {},
   "outputs": [],
   "source": [
    "train_set, test_set = train_test_split(training, test_size=0.2, random_state=42)\n",
    "X_train = train_set.drop('price', axis=1)\n",
    "y_train = train_set['price'].copy()\n",
    "X_test = test_set.drop('price', axis=1)\n",
    "y_test = test_set['price'].copy()"
   ]
  },
  {
   "cell_type": "code",
   "execution_count": 67,
   "metadata": {},
   "outputs": [],
   "source": [
    "kfolds = KFold(n_splits=10, shuffle=True, random_state=42)\n",
    "\n",
    "def rmsle(y_train, y_pred):\n",
    "    return np.sqrt(mean_squared_error(y, y_pred))\n",
    "\n",
    "def cv_rmse(model, X_train):\n",
    "    rmse = np.sqrt(-cross_val_score(model, X_train, y_train, scoring=\"neg_mean_squared_error\", cv=kfolds))\n",
    "    return (rmse)"
   ]
  },
  {
   "cell_type": "code",
   "execution_count": 70,
   "metadata": {},
   "outputs": [],
   "source": [
    "alphas_alt = [14.5, 14.6, 14.7, 14.8, 14.9, 15, 15.1, 15.2, 15.3, 15.4, 15.5]\n",
    "alphas2 = [5e-05, 0.0001, 0.0002, 0.0003, 0.0004, 0.0005, 0.0006, 0.0007, 0.0008]\n",
    "e_alphas = [0.0001, 0.0002, 0.0003, 0.0004, 0.0005, 0.0006, 0.0007]\n",
    "e_l1ratio = [0.8, 0.85, 0.9, 0.95, 0.99, 1]"
   ]
  },
  {
   "cell_type": "code",
   "execution_count": 74,
   "metadata": {},
   "outputs": [],
   "source": [
    "ridge = make_pipeline(RobustScaler(), RidgeCV(alphas=alphas_alt, cv=kfolds))\n",
    "lasso = make_pipeline(RobustScaler(), LassoCV(max_iter=1e7, alphas=alphas2, random_state=42, cv=kfolds))\n",
    "elasticnet = make_pipeline(RobustScaler(), ElasticNetCV(max_iter=1e7, alphas=e_alphas, cv=kfolds, l1_ratio=e_l1ratio))"
   ]
  },
  {
   "cell_type": "code",
   "execution_count": 77,
   "metadata": {},
   "outputs": [
    {
     "name": "stderr",
     "output_type": "stream",
     "text": [
      "/anaconda3/lib/python3.6/site-packages/sklearn/model_selection/_search.py:841: DeprecationWarning: The default of the `iid` parameter will change from True to False in version 0.22 and will be removed in 0.24. This will change numeric results when test-set sizes are unequal.\n",
      "  DeprecationWarning)\n",
      "/anaconda3/lib/python3.6/site-packages/sklearn/model_selection/_search.py:841: DeprecationWarning: The default of the `iid` parameter will change from True to False in version 0.22 and will be removed in 0.24. This will change numeric results when test-set sizes are unequal.\n",
      "  DeprecationWarning)\n"
     ]
    },
    {
     "name": "stdout",
     "output_type": "stream",
     "text": [
      "LASSO: 0.3578 (0.0264)\n",
      "\n",
      "elastic net: 0.3583 (0.0270)\n",
      "\n"
     ]
    }
   ],
   "source": [
    "score = cv_rmse(ridge, X_train)\n",
    "score = cv_rmse(lasso, X_train)\n",
    "print(\"LASSO: {:.4f} ({:.4f})\\n\".format(score.mean(), score.std()), )\n",
    "\n",
    "score = cv_rmse(elasticnet, X_train)\n",
    "print(\"elastic net: {:.4f} ({:.4f})\\n\".format(score.mean(), score.std()), )"
   ]
  },
  {
   "cell_type": "code",
   "execution_count": null,
   "metadata": {},
   "outputs": [],
   "source": []
  }
 ],
 "metadata": {
  "kernelspec": {
   "display_name": "Python 3",
   "language": "python",
   "name": "python3"
  },
  "language_info": {
   "codemirror_mode": {
    "name": "ipython",
    "version": 3
   },
   "file_extension": ".py",
   "mimetype": "text/x-python",
   "name": "python",
   "nbconvert_exporter": "python",
   "pygments_lexer": "ipython3",
   "version": "3.6.7"
  }
 },
 "nbformat": 4,
 "nbformat_minor": 2
}
